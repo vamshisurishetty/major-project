{
 "cells": [
  {
   "cell_type": "code",
   "execution_count": 1,
   "id": "9a208f1d",
   "metadata": {},
   "outputs": [],
   "source": [
    "import random"
   ]
  },
  {
   "cell_type": "code",
   "execution_count": 2,
   "id": "48f2838d",
   "metadata": {},
   "outputs": [],
   "source": [
    "import string\n"
   ]
  },
  {
   "cell_type": "code",
   "execution_count": 3,
   "id": "8574b2f7",
   "metadata": {},
   "outputs": [],
   "source": [
    "chars = \" \" + string.punctuation + string.digits + string.ascii_letters"
   ]
  },
  {
   "cell_type": "code",
   "execution_count": 4,
   "id": "f4a5f410",
   "metadata": {},
   "outputs": [
    {
     "data": {
      "text/plain": [
       "' !\"#$%&\\'()*+,-./:;<=>?@[\\\\]^_`{|}~0123456789abcdefghijklmnopqrstuvwxyzABCDEFGHIJKLMNOPQRSTUVWXYZ'"
      ]
     },
     "execution_count": 4,
     "metadata": {},
     "output_type": "execute_result"
    }
   ],
   "source": [
    "chars"
   ]
  },
  {
   "cell_type": "code",
   "execution_count": 5,
   "id": "8aaa4648",
   "metadata": {},
   "outputs": [],
   "source": [
    "chars = list(chars)"
   ]
  },
  {
   "cell_type": "code",
   "execution_count": 6,
   "id": "99a4d8a1",
   "metadata": {},
   "outputs": [
    {
     "name": "stdout",
     "output_type": "stream",
     "text": [
      "[' ', '!', '\"', '#', '$', '%', '&', \"'\", '(', ')', '*', '+', ',', '-', '.', '/', ':', ';', '<', '=', '>', '?', '@', '[', '\\\\', ']', '^', '_', '`', '{', '|', '}', '~', '0', '1', '2', '3', '4', '5', '6', '7', '8', '9', 'a', 'b', 'c', 'd', 'e', 'f', 'g', 'h', 'i', 'j', 'k', 'l', 'm', 'n', 'o', 'p', 'q', 'r', 's', 't', 'u', 'v', 'w', 'x', 'y', 'z', 'A', 'B', 'C', 'D', 'E', 'F', 'G', 'H', 'I', 'J', 'K', 'L', 'M', 'N', 'O', 'P', 'Q', 'R', 'S', 'T', 'U', 'V', 'W', 'X', 'Y', 'Z']\n"
     ]
    }
   ],
   "source": [
    "print(chars)"
   ]
  },
  {
   "cell_type": "code",
   "execution_count": 7,
   "id": "f3a2d550",
   "metadata": {},
   "outputs": [],
   "source": [
    "key = chars.copy()"
   ]
  },
  {
   "cell_type": "code",
   "execution_count": 8,
   "id": "562ebbb0",
   "metadata": {},
   "outputs": [],
   "source": [
    "random.shuffle(key)"
   ]
  },
  {
   "cell_type": "code",
   "execution_count": 9,
   "id": "c97d7f2d",
   "metadata": {},
   "outputs": [
    {
     "name": "stdout",
     "output_type": "stream",
     "text": [
      "['=', 'c', 'w', 'P', '4', '7', 'm', 'p', '`', 'U', '/', 'N', 'L', 'T', '6', 'v', 'y', 'l', 'z', 'Z', '^', '{', 'd', 'V', 'o', '(', 'a', 'H', 'n', 'j', '_', '>', 'C', ':', 'h', '}', 'W', 'O', 'r', 'q', '<', 'x', 'g', '&', 'Y', 'G', ')', 'D', 't', 'F', '@', '5', '3', 'E', '8', 'B', '?', '9', 'f', '+', '%', 'R', 'i', 'K', '2', 'X', '\"', '1', '!', ';', 'M', 'Q', 'e', 'A', \"'\", 'J', '~', 'b', 'S', '|', ',', '$', 's', ' ', '0', '-', '*', 'I', '.', '\\\\', 'u', '#', 'k', ']', '[']\n"
     ]
    }
   ],
   "source": [
    "print(key)"
   ]
  },
  {
   "cell_type": "markdown",
   "id": "ae1ca9be",
   "metadata": {},
   "source": [
    "## Encryption"
   ]
  },
  {
   "cell_type": "code",
   "execution_count": 10,
   "id": "bf06d7a2",
   "metadata": {},
   "outputs": [
    {
     "name": "stdout",
     "output_type": "stream",
     "text": [
      "Enter a plain text: i love mangoes\n"
     ]
    }
   ],
   "source": [
    "plain_text = input(\"Enter a plain text: \")\n",
    "cipher_text = \"\"\n",
    "for letter in plain_text:\n",
    "    index = chars.index(letter)\n",
    "    cipher_text += key[index]\n",
    "    "
   ]
  },
  {
   "cell_type": "code",
   "execution_count": 11,
   "id": "d0fa0082",
   "metadata": {},
   "outputs": [
    {
     "name": "stdout",
     "output_type": "stream",
     "text": [
      "Original message: i love mangoes\n",
      "Encrypted message: 5=892D=B&?F9DR\n"
     ]
    }
   ],
   "source": [
    "print(f\"Original message: {plain_text}\")\n",
    "print(f\"Encrypted message: {cipher_text}\")\n"
   ]
  },
  {
   "cell_type": "markdown",
   "id": "1da0d217",
   "metadata": {},
   "source": [
    "## Decryption "
   ]
  },
  {
   "cell_type": "code",
   "execution_count": 14,
   "id": "ac8c4d09",
   "metadata": {},
   "outputs": [
    {
     "name": "stdout",
     "output_type": "stream",
     "text": [
      "Enter a message to encrypt5=892D=B&?F9DR\n"
     ]
    }
   ],
   "source": [
    "cipher_text = input(\"Enter a message to encrypt\")\n",
    "plain_text = \"\"\n",
    "\n",
    "for letter in cipher_text:\n",
    "    index = key.index(letter)\n",
    "    plain_text += chars[index]"
   ]
  },
  {
   "cell_type": "code",
   "execution_count": 15,
   "id": "9c6f976b",
   "metadata": {},
   "outputs": [
    {
     "name": "stdout",
     "output_type": "stream",
     "text": [
      "encrypted message: 5=892D=B&?F9DR\n",
      "original message : i love mangoes\n"
     ]
    }
   ],
   "source": [
    "print(f\"encrypted message: {cipher_text}\")\n",
    "print(f\"original message : {plain_text}\")"
   ]
  },
  {
   "cell_type": "code",
   "execution_count": null,
   "id": "e469d66c",
   "metadata": {},
   "outputs": [],
   "source": []
  }
 ],
 "metadata": {
  "kernelspec": {
   "display_name": "Python 3 (ipykernel)",
   "language": "python",
   "name": "python3"
  },
  "language_info": {
   "codemirror_mode": {
    "name": "ipython",
    "version": 3
   },
   "file_extension": ".py",
   "mimetype": "text/x-python",
   "name": "python",
   "nbconvert_exporter": "python",
   "pygments_lexer": "ipython3",
   "version": "3.10.7"
  }
 },
 "nbformat": 4,
 "nbformat_minor": 5
}
